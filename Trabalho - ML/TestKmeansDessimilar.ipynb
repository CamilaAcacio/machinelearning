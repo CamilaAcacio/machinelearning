{
 "cells": [
  {
   "cell_type": "code",
   "execution_count": 1,
   "id": "c68af7f0",
   "metadata": {},
   "outputs": [],
   "source": [
    "import pandas as pd\n",
    "import numpy as np\n",
    "import matplotlib.pyplot as plt\n",
    "import statistics\n",
    "from random import randrange"
   ]
  },
  {
   "cell_type": "code",
   "execution_count": 2,
   "id": "5d756bd2",
   "metadata": {},
   "outputs": [
    {
     "name": "stdout",
     "output_type": "stream",
     "text": [
      "(29, 3)\n"
     ]
    },
    {
     "data": {
      "text/html": [
       "<div>\n",
       "<style scoped>\n",
       "    .dataframe tbody tr th:only-of-type {\n",
       "        vertical-align: middle;\n",
       "    }\n",
       "\n",
       "    .dataframe tbody tr th {\n",
       "        vertical-align: top;\n",
       "    }\n",
       "\n",
       "    .dataframe thead th {\n",
       "        text-align: right;\n",
       "    }\n",
       "</style>\n",
       "<table border=\"1\" class=\"dataframe\">\n",
       "  <thead>\n",
       "    <tr style=\"text-align: right;\">\n",
       "      <th></th>\n",
       "      <th>X</th>\n",
       "      <th>Y</th>\n",
       "      <th>class</th>\n",
       "    </tr>\n",
       "  </thead>\n",
       "  <tbody>\n",
       "    <tr>\n",
       "      <th>0</th>\n",
       "      <td>124</td>\n",
       "      <td>308</td>\n",
       "      <td>1</td>\n",
       "    </tr>\n",
       "    <tr>\n",
       "      <th>1</th>\n",
       "      <td>132</td>\n",
       "      <td>293</td>\n",
       "      <td>1</td>\n",
       "    </tr>\n",
       "    <tr>\n",
       "      <th>2</th>\n",
       "      <td>125</td>\n",
       "      <td>308</td>\n",
       "      <td>1</td>\n",
       "    </tr>\n",
       "    <tr>\n",
       "      <th>3</th>\n",
       "      <td>148</td>\n",
       "      <td>269</td>\n",
       "      <td>1</td>\n",
       "    </tr>\n",
       "    <tr>\n",
       "      <th>4</th>\n",
       "      <td>160</td>\n",
       "      <td>273</td>\n",
       "      <td>1</td>\n",
       "    </tr>\n",
       "  </tbody>\n",
       "</table>\n",
       "</div>"
      ],
      "text/plain": [
       "     X    Y  class\n",
       "0  124  308      1\n",
       "1  132  293      1\n",
       "2  125  308      1\n",
       "3  148  269      1\n",
       "4  160  273      1"
      ]
     },
     "execution_count": 2,
     "metadata": {},
     "output_type": "execute_result"
    }
   ],
   "source": [
    "data = pd.read_csv('testData.csv', names=['X', 'Y', 'class'])\n",
    "print(data.shape)\n",
    "data.head()"
   ]
  },
  {
   "cell_type": "code",
   "execution_count": 3,
   "id": "7b752a1f",
   "metadata": {},
   "outputs": [],
   "source": [
    "def get_initial_points(data, k):\n",
    "    n = len(data)\n",
    "    means = []\n",
    "    while len(means) != k:\n",
    "        row = data.iloc[randrange(n)].to_list()\n",
    "        if row not in means:\n",
    "            means.append(row)\n",
    "    return means"
   ]
  },
  {
   "cell_type": "code",
   "execution_count": 4,
   "id": "756cc595",
   "metadata": {},
   "outputs": [],
   "source": [
    "def squared_euclidean_distance(a, b):\n",
    "    n = len(a)\n",
    "    assert(n == len(b))\n",
    "    return sum([(a[i] - b[i])**2 for i in range(n)])"
   ]
  },
  {
   "cell_type": "code",
   "execution_count": 5,
   "id": "6ec404fa",
   "metadata": {},
   "outputs": [],
   "source": [
    "def k_means(data, k):\n",
    "    # Obter pontos (centroides) iniciais:\n",
    "    means = get_initial_points(data, k)\n",
    "    change = True\n",
    "    result = False\n",
    "    new_result = False\n",
    "    while change:\n",
    "        new_result = {}\n",
    "        for i in range(k):\n",
    "            new_result[i] = []\n",
    "        # Atribuir conjuntos de pontos aos clusters:\n",
    "        for _, x in data.iterrows():\n",
    "            point = x.to_list()\n",
    "            smallest_dist = float(\"inf\")\n",
    "            cluster = None\n",
    "            for i in range(k):\n",
    "                sed = squared_euclidean_distance(point, means[i])\n",
    "                if sed < smallest_dist:\n",
    "                    smallest_dist = sed\n",
    "                    cluster = i\n",
    "            # Atribuir o ponto ao cluster mais próximo]:\n",
    "            new_result[cluster].append(point)\n",
    "        # \n",
    "        # Atualizar os centroides:\n",
    "        new_means = []\n",
    "        for i in range(k):\n",
    "            new_means.append([float(sum(col))/len(col) for col in zip(*new_result[i])])\n",
    "        # Critérios de parada\n",
    "        if result:\n",
    "            change = False\n",
    "            for i in range(k):\n",
    "                if sorted(result[i]) != sorted(new_result[i]):\n",
    "                    change = True\n",
    "        print(f\"Change: {change}\") #visualiza quantas iterações (true) faz, até converger false\n",
    "        # Atualização das variáveis:\n",
    "        result = new_result\n",
    "        means = new_means\n",
    "    return result"
   ]
  },
  {
   "cell_type": "code",
   "execution_count": 6,
   "id": "86ee75f3",
   "metadata": {},
   "outputs": [
    {
     "name": "stdout",
     "output_type": "stream",
     "text": [
      "Change: True\n",
      "Change: True\n",
      "Change: True\n",
      "Change: False\n"
     ]
    }
   ],
   "source": [
    "cols = ['X', 'Y']\n",
    "res1 = k_means(data[cols], 2)\n"
   ]
  },
  {
   "cell_type": "code",
   "execution_count": 7,
   "id": "8a57ebeb",
   "metadata": {},
   "outputs": [
    {
     "data": {
      "image/png": "[encoded data removed]",
      "text/plain": [
       "<Figure size 432x288 with 1 Axes>"
      ]
     },
     "metadata": {
      "needs_background": "light"
     },
     "output_type": "display_data"
    }
   ],
   "source": [
    "# Plot\n",
    "fig, ax = plt.subplots()\n",
    "ax.margins(0.05) # Optional, just adds 5% padding to the autoscaling\n",
    "for key, value in res1.items():\n",
    "    x, y = zip(*value)\n",
    "    ax.plot(x, y, marker='o', linestyle='', ms=6, label=str(key))\n",
    "ax.legend()\n",
    "plt.show()"
   ]
  },
  {
   "cell_type": "code",
   "execution_count": 8,
   "id": "c47e2b96",
   "metadata": {},
   "outputs": [],
   "source": [
    "def get_dissimilar_partitions(data, k):\n",
    "    # Criar os conjuntos iniciais:\n",
    "    initial_points = get_initial_points(data, k)\n",
    "    result = {}\n",
    "    for i in range(k):\n",
    "        result[i] = [initial_points[i]]\n",
    "    \n",
    "    # Obter todos os outros pontos:\n",
    "    all_points = []\n",
    "    for _, x in data.iterrows():\n",
    "        point = x.to_list()\n",
    "        if point not in initial_points:\n",
    "            all_points.append(point)\n",
    "    \n",
    "    # Atribuir os pontos:\n",
    "    i = 0 # Quem começa é o primeiro conjunto\n",
    "    while all_points:\n",
    "        point_set = result[i]\n",
    "        max_dist = 0\n",
    "        point_to_add = None\n",
    "        for x in all_points:\n",
    "            min_dist_x = float(\"inf\")\n",
    "            for y in point_set:\n",
    "                dist_x_y = squared_euclidean_distance(x, y)\n",
    "                if dist_x_y < min_dist_x:\n",
    "                    min_dist_x = dist_x_y\n",
    "            if min_dist_x > max_dist:\n",
    "                max_dist = min_dist_x\n",
    "                point_to_add = x\n",
    "        result[i].append(point_to_add)\n",
    "        all_points.remove(point_to_add)\n",
    "        i = (i + 1) % k\n",
    "    \n",
    "    return result"
   ]
  },
  {
   "cell_type": "code",
   "execution_count": 9,
   "id": "4f9bdeee",
   "metadata": {},
   "outputs": [],
   "source": [
    "cols = ['X', 'Y']\n",
    "res2 = get_dissimilar_partitions(data[cols], 2)"
   ]
  },
  {
   "cell_type": "code",
   "execution_count": 10,
   "id": "7d515bec",
   "metadata": {},
   "outputs": [
    {
     "data": {
      "image/png": "[encoded data removed]",
      "text/plain": [
       "<Figure size 432x288 with 1 Axes>"
      ]
     },
     "metadata": {
      "needs_background": "light"
     },
     "output_type": "display_data"
    }
   ],
   "source": [
    "# Plot\n",
    "fig, ax = plt.subplots()\n",
    "ax.margins(0.05) # Optional, just adds 5% padding to the autoscaling\n",
    "for key, value in res2.items():\n",
    "    x, y = zip(*value)\n",
    "    ax.plot(x, y, marker='o', linestyle='', ms=6, label=str(key))\n",
    "ax.legend()\n",
    "plt.show()"
   ]
  }
 ],
 "metadata": {
  "kernelspec": {
   "display_name": "Python 3",
   "language": "python",
   "name": "python3"
  },
  "language_info": {
   "codemirror_mode": {
    "name": "ipython",
    "version": 3
   },
   "file_extension": ".py",
   "mimetype": "text/x-python",
   "name": "python",
   "nbconvert_exporter": "python",
   "pygments_lexer": "ipython3",
   "version": "3.8.8"
  }
 },
 "nbformat": 4,
 "nbformat_minor": 5
}
